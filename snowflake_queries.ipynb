{
 "cells": [
  {
   "cell_type": "code",
   "execution_count": 66,
   "id": "94dcc105-2ffe-4bf0-bea8-e192b904ee75",
   "metadata": {},
   "outputs": [],
   "source": [
    "import snowflake.connector as sf\n",
    "import pandas as pd\n",
    "import dotenv\n",
    "import os\n",
    "\n",
    "dotenv.load_dotenv()\n",
    "snowflake_password = os.getenv(\"snowflake_password\")"
   ]
  },
  {
   "cell_type": "code",
   "execution_count": 67,
   "id": "ed008650-5480-41f4-88bd-70efa1bbd1d0",
   "metadata": {},
   "outputs": [],
   "source": [
    "connection = sf.connect(\n",
    "    user='zsk4gm@virginia.edu',\n",
    "    password=snowflake_password,\n",
    "    account='rja95216',\n",
    "    warehouse='COMPUTE_WH',\n",
    "    database='DS5111_SU24',\n",
    "    schema='ZSK4GM'\n",
    ")"
   ]
  },
  {
   "cell_type": "code",
   "execution_count": 68,
   "id": "a302e1bb-fe4d-4a79-bee5-a4efc6bf9829",
   "metadata": {},
   "outputs": [],
   "source": [
    "cursor = connection.cursor()"
   ]
  },
  {
   "cell_type": "code",
   "execution_count": 73,
   "id": "e3a690ff-9aa6-4efa-a1f8-8294db454dae",
   "metadata": {},
   "outputs": [
    {
     "ename": "ProgrammingError",
     "evalue": "255002: Optional dependency: 'pandas' is not installed, please see the following link for install instructions: https://docs.snowflake.com/en/user-guide/python-connector-pandas.html#installation",
     "output_type": "error",
     "traceback": [
      "\u001b[0;31m---------------------------------------------------------------------------\u001b[0m",
      "\u001b[0;31mProgrammingError\u001b[0m                          Traceback (most recent call last)",
      "Cell \u001b[0;32mIn[73], line 9\u001b[0m\n\u001b[1;32m      2\u001b[0m q1 \u001b[38;5;241m=\u001b[39m \u001b[38;5;124m'''\u001b[39m\u001b[38;5;124m \u001b[39m\n\u001b[1;32m      3\u001b[0m \u001b[38;5;124mSELECT CourseMnemonic, CourseName\u001b[39m\n\u001b[1;32m      4\u001b[0m \u001b[38;5;124mFROM DS5111_SU24.ZSK4GM.COURSES\u001b[39m\n\u001b[1;32m      5\u001b[0m \u001b[38;5;124mWHERE IsActive = TRUE;\u001b[39m\n\u001b[1;32m      6\u001b[0m \u001b[38;5;124m'''\u001b[39m\n\u001b[1;32m      8\u001b[0m cursor\u001b[38;5;241m.\u001b[39mexecute(q1)\n\u001b[0;32m----> 9\u001b[0m q1_df \u001b[38;5;241m=\u001b[39m \u001b[43mcursor\u001b[49m\u001b[38;5;241;43m.\u001b[39;49m\u001b[43mfetch_pandas_all\u001b[49m\u001b[43m(\u001b[49m\u001b[43m)\u001b[49m\n",
      "File \u001b[0;32m~/Desktop/zsk4gm_DS5111su24_lab_02/env/lib/python3.10/site-packages/snowflake/connector/cursor.py:1333\u001b[0m, in \u001b[0;36mSnowflakeCursor.fetch_pandas_all\u001b[0;34m(self, **kwargs)\u001b[0m\n\u001b[1;32m   1321\u001b[0m \u001b[38;5;28;01mdef\u001b[39;00m \u001b[38;5;21mfetch_pandas_all\u001b[39m(\u001b[38;5;28mself\u001b[39m, \u001b[38;5;241m*\u001b[39m\u001b[38;5;241m*\u001b[39mkwargs: Any) \u001b[38;5;241m-\u001b[39m\u001b[38;5;241m>\u001b[39m DataFrame:\n\u001b[1;32m   1322\u001b[0m \u001b[38;5;250m    \u001b[39m\u001b[38;5;124;03m\"\"\"\u001b[39;00m\n\u001b[1;32m   1323\u001b[0m \u001b[38;5;124;03m    Fetch Pandas dataframes in batches, where 'batch' refers to Snowflake Chunk.\u001b[39;00m\n\u001b[1;32m   1324\u001b[0m \n\u001b[0;32m   (...)\u001b[0m\n\u001b[1;32m   1331\u001b[0m \u001b[38;5;124;03m        See here for more information: https://github.com/apache/arrow/issues/4116\u001b[39;00m\n\u001b[1;32m   1332\u001b[0m \u001b[38;5;124;03m    \"\"\"\u001b[39;00m\n\u001b[0;32m-> 1333\u001b[0m     \u001b[38;5;28;43mself\u001b[39;49m\u001b[38;5;241;43m.\u001b[39;49m\u001b[43mcheck_can_use_pandas\u001b[49m\u001b[43m(\u001b[49m\u001b[43m)\u001b[49m\n\u001b[1;32m   1334\u001b[0m     \u001b[38;5;28;01mif\u001b[39;00m \u001b[38;5;28mself\u001b[39m\u001b[38;5;241m.\u001b[39m_prefetch_hook \u001b[38;5;129;01mis\u001b[39;00m \u001b[38;5;129;01mnot\u001b[39;00m \u001b[38;5;28;01mNone\u001b[39;00m:\n\u001b[1;32m   1335\u001b[0m         \u001b[38;5;28mself\u001b[39m\u001b[38;5;241m.\u001b[39m_prefetch_hook()\n",
      "File \u001b[0;32m~/Desktop/zsk4gm_DS5111su24_lab_02/env/lib/python3.10/site-packages/snowflake/connector/cursor.py:1230\u001b[0m, in \u001b[0;36mSnowflakeCursor.check_can_use_pandas\u001b[0;34m(self)\u001b[0m\n\u001b[1;32m   1224\u001b[0m msg \u001b[38;5;241m=\u001b[39m (\n\u001b[1;32m   1225\u001b[0m     \u001b[38;5;124m\"\u001b[39m\u001b[38;5;124mOptional dependency: \u001b[39m\u001b[38;5;124m'\u001b[39m\u001b[38;5;124mpandas\u001b[39m\u001b[38;5;124m'\u001b[39m\u001b[38;5;124m is not installed, please see the following link for install \u001b[39m\u001b[38;5;124m\"\u001b[39m\n\u001b[1;32m   1226\u001b[0m     \u001b[38;5;124m\"\u001b[39m\u001b[38;5;124minstructions: https://docs.snowflake.com/en/user-guide/python-connector-pandas.html#installation\u001b[39m\u001b[38;5;124m\"\u001b[39m\n\u001b[1;32m   1227\u001b[0m )\n\u001b[1;32m   1228\u001b[0m errno \u001b[38;5;241m=\u001b[39m ER_NO_PYARROW\n\u001b[0;32m-> 1230\u001b[0m \u001b[43mError\u001b[49m\u001b[38;5;241;43m.\u001b[39;49m\u001b[43merrorhandler_wrapper\u001b[49m\u001b[43m(\u001b[49m\n\u001b[1;32m   1231\u001b[0m \u001b[43m    \u001b[49m\u001b[38;5;28;43mself\u001b[39;49m\u001b[38;5;241;43m.\u001b[39;49m\u001b[43mconnection\u001b[49m\u001b[43m,\u001b[49m\n\u001b[1;32m   1232\u001b[0m \u001b[43m    \u001b[49m\u001b[38;5;28;43mself\u001b[39;49m\u001b[43m,\u001b[49m\n\u001b[1;32m   1233\u001b[0m \u001b[43m    \u001b[49m\u001b[43mProgrammingError\u001b[49m\u001b[43m,\u001b[49m\n\u001b[1;32m   1234\u001b[0m \u001b[43m    \u001b[49m\u001b[43m{\u001b[49m\n\u001b[1;32m   1235\u001b[0m \u001b[43m        \u001b[49m\u001b[38;5;124;43m\"\u001b[39;49m\u001b[38;5;124;43mmsg\u001b[39;49m\u001b[38;5;124;43m\"\u001b[39;49m\u001b[43m:\u001b[49m\u001b[43m \u001b[49m\u001b[43mmsg\u001b[49m\u001b[43m,\u001b[49m\n\u001b[1;32m   1236\u001b[0m \u001b[43m        \u001b[49m\u001b[38;5;124;43m\"\u001b[39;49m\u001b[38;5;124;43merrno\u001b[39;49m\u001b[38;5;124;43m\"\u001b[39;49m\u001b[43m:\u001b[49m\u001b[43m \u001b[49m\u001b[43merrno\u001b[49m\u001b[43m,\u001b[49m\n\u001b[1;32m   1237\u001b[0m \u001b[43m    \u001b[49m\u001b[43m}\u001b[49m\u001b[43m,\u001b[49m\n\u001b[1;32m   1238\u001b[0m \u001b[43m\u001b[49m\u001b[43m)\u001b[49m\n",
      "File \u001b[0;32m~/Desktop/zsk4gm_DS5111su24_lab_02/env/lib/python3.10/site-packages/snowflake/connector/errors.py:290\u001b[0m, in \u001b[0;36mError.errorhandler_wrapper\u001b[0;34m(connection, cursor, error_class, error_value)\u001b[0m\n\u001b[1;32m    267\u001b[0m \u001b[38;5;129m@staticmethod\u001b[39m\n\u001b[1;32m    268\u001b[0m \u001b[38;5;28;01mdef\u001b[39;00m \u001b[38;5;21merrorhandler_wrapper\u001b[39m(\n\u001b[1;32m    269\u001b[0m     connection: SnowflakeConnection \u001b[38;5;241m|\u001b[39m \u001b[38;5;28;01mNone\u001b[39;00m,\n\u001b[0;32m   (...)\u001b[0m\n\u001b[1;32m    272\u001b[0m     error_value: \u001b[38;5;28mdict\u001b[39m[\u001b[38;5;28mstr\u001b[39m, Any],\n\u001b[1;32m    273\u001b[0m ) \u001b[38;5;241m-\u001b[39m\u001b[38;5;241m>\u001b[39m \u001b[38;5;28;01mNone\u001b[39;00m:\n\u001b[1;32m    274\u001b[0m \u001b[38;5;250m    \u001b[39m\u001b[38;5;124;03m\"\"\"Error handler wrapper that calls the errorhandler method.\u001b[39;00m\n\u001b[1;32m    275\u001b[0m \n\u001b[1;32m    276\u001b[0m \u001b[38;5;124;03m    Args:\u001b[39;00m\n\u001b[0;32m   (...)\u001b[0m\n\u001b[1;32m    287\u001b[0m \u001b[38;5;124;03m        exception to the first handler in that order.\u001b[39;00m\n\u001b[1;32m    288\u001b[0m \u001b[38;5;124;03m    \"\"\"\u001b[39;00m\n\u001b[0;32m--> 290\u001b[0m     handed_over \u001b[38;5;241m=\u001b[39m \u001b[43mError\u001b[49m\u001b[38;5;241;43m.\u001b[39;49m\u001b[43mhand_to_other_handler\u001b[49m\u001b[43m(\u001b[49m\n\u001b[1;32m    291\u001b[0m \u001b[43m        \u001b[49m\u001b[43mconnection\u001b[49m\u001b[43m,\u001b[49m\n\u001b[1;32m    292\u001b[0m \u001b[43m        \u001b[49m\u001b[43mcursor\u001b[49m\u001b[43m,\u001b[49m\n\u001b[1;32m    293\u001b[0m \u001b[43m        \u001b[49m\u001b[43merror_class\u001b[49m\u001b[43m,\u001b[49m\n\u001b[1;32m    294\u001b[0m \u001b[43m        \u001b[49m\u001b[43merror_value\u001b[49m\u001b[43m,\u001b[49m\n\u001b[1;32m    295\u001b[0m \u001b[43m    \u001b[49m\u001b[43m)\u001b[49m\n\u001b[1;32m    296\u001b[0m     \u001b[38;5;28;01mif\u001b[39;00m \u001b[38;5;129;01mnot\u001b[39;00m handed_over:\n\u001b[1;32m    297\u001b[0m         \u001b[38;5;28;01mraise\u001b[39;00m Error\u001b[38;5;241m.\u001b[39merrorhandler_make_exception(\n\u001b[1;32m    298\u001b[0m             error_class,\n\u001b[1;32m    299\u001b[0m             error_value,\n\u001b[1;32m    300\u001b[0m         )\n",
      "File \u001b[0;32m~/Desktop/zsk4gm_DS5111su24_lab_02/env/lib/python3.10/site-packages/snowflake/connector/errors.py:345\u001b[0m, in \u001b[0;36mError.hand_to_other_handler\u001b[0;34m(connection, cursor, error_class, error_value)\u001b[0m\n\u001b[1;32m    343\u001b[0m \u001b[38;5;28;01mif\u001b[39;00m cursor \u001b[38;5;129;01mis\u001b[39;00m \u001b[38;5;129;01mnot\u001b[39;00m \u001b[38;5;28;01mNone\u001b[39;00m:\n\u001b[1;32m    344\u001b[0m     cursor\u001b[38;5;241m.\u001b[39mmessages\u001b[38;5;241m.\u001b[39mappend((error_class, error_value))\n\u001b[0;32m--> 345\u001b[0m     \u001b[43mcursor\u001b[49m\u001b[38;5;241;43m.\u001b[39;49m\u001b[43merrorhandler\u001b[49m\u001b[43m(\u001b[49m\u001b[43mconnection\u001b[49m\u001b[43m,\u001b[49m\u001b[43m \u001b[49m\u001b[43mcursor\u001b[49m\u001b[43m,\u001b[49m\u001b[43m \u001b[49m\u001b[43merror_class\u001b[49m\u001b[43m,\u001b[49m\u001b[43m \u001b[49m\u001b[43merror_value\u001b[49m\u001b[43m)\u001b[49m\n\u001b[1;32m    346\u001b[0m     \u001b[38;5;28;01mreturn\u001b[39;00m \u001b[38;5;28;01mTrue\u001b[39;00m\n\u001b[1;32m    347\u001b[0m \u001b[38;5;28;01melif\u001b[39;00m connection \u001b[38;5;129;01mis\u001b[39;00m \u001b[38;5;129;01mnot\u001b[39;00m \u001b[38;5;28;01mNone\u001b[39;00m:\n",
      "File \u001b[0;32m~/Desktop/zsk4gm_DS5111su24_lab_02/env/lib/python3.10/site-packages/snowflake/connector/errors.py:221\u001b[0m, in \u001b[0;36mError.default_errorhandler\u001b[0;34m(connection, cursor, error_class, error_value)\u001b[0m\n\u001b[1;32m    219\u001b[0m errno \u001b[38;5;241m=\u001b[39m error_value\u001b[38;5;241m.\u001b[39mget(\u001b[38;5;124m\"\u001b[39m\u001b[38;5;124merrno\u001b[39m\u001b[38;5;124m\"\u001b[39m)\n\u001b[1;32m    220\u001b[0m done_format_msg \u001b[38;5;241m=\u001b[39m error_value\u001b[38;5;241m.\u001b[39mget(\u001b[38;5;124m\"\u001b[39m\u001b[38;5;124mdone_format_msg\u001b[39m\u001b[38;5;124m\"\u001b[39m)\n\u001b[0;32m--> 221\u001b[0m \u001b[38;5;28;01mraise\u001b[39;00m error_class(\n\u001b[1;32m    222\u001b[0m     msg\u001b[38;5;241m=\u001b[39merror_value\u001b[38;5;241m.\u001b[39mget(\u001b[38;5;124m\"\u001b[39m\u001b[38;5;124mmsg\u001b[39m\u001b[38;5;124m\"\u001b[39m),\n\u001b[1;32m    223\u001b[0m     errno\u001b[38;5;241m=\u001b[39m\u001b[38;5;28;01mNone\u001b[39;00m \u001b[38;5;28;01mif\u001b[39;00m errno \u001b[38;5;129;01mis\u001b[39;00m \u001b[38;5;28;01mNone\u001b[39;00m \u001b[38;5;28;01melse\u001b[39;00m \u001b[38;5;28mint\u001b[39m(errno),\n\u001b[1;32m    224\u001b[0m     sqlstate\u001b[38;5;241m=\u001b[39merror_value\u001b[38;5;241m.\u001b[39mget(\u001b[38;5;124m\"\u001b[39m\u001b[38;5;124msqlstate\u001b[39m\u001b[38;5;124m\"\u001b[39m),\n\u001b[1;32m    225\u001b[0m     sfqid\u001b[38;5;241m=\u001b[39merror_value\u001b[38;5;241m.\u001b[39mget(\u001b[38;5;124m\"\u001b[39m\u001b[38;5;124msfqid\u001b[39m\u001b[38;5;124m\"\u001b[39m),\n\u001b[1;32m    226\u001b[0m     query\u001b[38;5;241m=\u001b[39merror_value\u001b[38;5;241m.\u001b[39mget(\u001b[38;5;124m\"\u001b[39m\u001b[38;5;124mquery\u001b[39m\u001b[38;5;124m\"\u001b[39m),\n\u001b[1;32m    227\u001b[0m     done_format_msg\u001b[38;5;241m=\u001b[39m(\n\u001b[1;32m    228\u001b[0m         \u001b[38;5;28;01mNone\u001b[39;00m \u001b[38;5;28;01mif\u001b[39;00m done_format_msg \u001b[38;5;129;01mis\u001b[39;00m \u001b[38;5;28;01mNone\u001b[39;00m \u001b[38;5;28;01melse\u001b[39;00m \u001b[38;5;28mbool\u001b[39m(done_format_msg)\n\u001b[1;32m    229\u001b[0m     ),\n\u001b[1;32m    230\u001b[0m     connection\u001b[38;5;241m=\u001b[39mconnection,\n\u001b[1;32m    231\u001b[0m     cursor\u001b[38;5;241m=\u001b[39mcursor,\n\u001b[1;32m    232\u001b[0m )\n",
      "\u001b[0;31mProgrammingError\u001b[0m: 255002: Optional dependency: 'pandas' is not installed, please see the following link for install instructions: https://docs.snowflake.com/en/user-guide/python-connector-pandas.html#installation"
     ]
    }
   ],
   "source": [
    "## 1. Which courses are currently included (active) in the program? Include the course mnemonic and course name for each.\n",
    "q1 = ''' \n",
    "SELECT CourseMnemonic, CourseName\n",
    "FROM DS5111_SU24.ZSK4GM.COURSES\n",
    "WHERE IsActive = TRUE;\n",
    "'''\n",
    "\n",
    "cursor.execute(q1)\n",
    "q1_df = cursor.fetch_pandas_all()"
   ]
  },
  {
   "cell_type": "code",
   "execution_count": null,
   "id": "f73788ce-43ed-470a-81de-4eba32f26092",
   "metadata": {},
   "outputs": [],
   "source": [
    "-- 2. Which courses were included in the program, but are no longer active? Include the course mnemonic and course name for each.\n",
    "SELECT CourseMnemonic, CourseName\n",
    "FROM DS5111_SU24.ZSK4GM.COURSES\n",
    "WHERE IsActive = FALSE;\n",
    "\n",
    "-- 3. Which instructors are not current employees? \n",
    "SELECT InstructorName\n",
    "FROM DS5111_SU24.ZSK4GM.INSTRUCTORS\n",
    "WHERE IsActive = FALSE;\n",
    "\n",
    "-- 4.4. For each course (active and inactive), how many learning outcomes are there? \n",
    "SELECT c.CourseMnemonic, COUNT(l.OutcomeDescription) AS LearningOutcomeCount\n",
    "FROM DS5111_SU24.ZSK4GM.COURSES c\n",
    "LEFT JOIN DS5111_SU24.ZSK4GM.LEARNINGOUTCOMES l ON c.CourseMnemonic = l.CourseMnemonic\n",
    "GROUP BY c.CourseMnemonic;\n",
    "\n",
    "-- 5. Are there any courses with no learning outcomes? If so, provide their mnemonics and names.\n",
    "SELECT c.CourseMnemonic, c.CourseName\n",
    "FROM DS5111_SU24.ZSK4GM.COURSES c\n",
    "LEFT JOIN DS5111_SU24.ZSK4GM.LEARNINGOUTCOMES l ON c.CourseMnemonic = l.CourseMnemonic\n",
    "WHERE l.OutcomeDescription IS NULL;\n",
    "\n",
    "-- 6. Which courses include SQL as a learning outcome? Include the learning outcome descriptions, course mnemonics, and course names in your solution.\n",
    "SELECT l.OutcomeDescription, c.CourseMnemonic, c.CourseName\n",
    "FROM DS5111_SU24.ZSK4GM.LEARNINGOUTCOMES l\n",
    "JOIN DS5111_SU24.ZSK4GM.COURSES c ON l.CourseMnemonic = c.CourseMnemonic\n",
    "WHERE l.OutcomeDescription LIKE '%SQL%';\n",
    "\n",
    "-- 7. Who taught course ds5100 in Summer 2021?\n",
    "SELECT i.InstructorName\n",
    "FROM DS5111_SU24.ZSK4GM.INSTRUCTORS i\n",
    "JOIN DS5111_SU24.ZSK4GM.INSTRUCTORASSIGNMENTS ia ON i.InstructorName = ia.InstructorName\n",
    "JOIN DS5111_SU24.ZSK4GM.ASSIGNMENTS a ON ia.AssignmentID = a.AssignmentID\n",
    "WHERE a.CourseMnemonic = 'ds5100' AND a.Term = 'summer2021';\n",
    "\n",
    "-- 8. Which instructors taught in Fall 2021? Order their names alphabetically, making sure the names are unique.\n",
    "SELECT DISTINCT i.InstructorName\n",
    "FROM DS5111_SU24.ZSK4GM.INSTRUCTORS i\n",
    "JOIN DS5111_SU24.ZSK4GM.INSTRUCTORASSIGNMENTS ia ON i.InstructorName = ia.InstructorName\n",
    "JOIN DS5111_SU24.ZSK4GM.ASSIGNMENTS a ON ia.AssignmentID = a.AssignmentID\n",
    "WHERE a.Term = 'fall2021'\n",
    "ORDER BY i.InstructorName;\n",
    "\n",
    "-- 9. How many courses did each instructor teach in each term? Order your results by term and then instructor.\n",
    "SELECT a.Term, i.InstructorName, COUNT(DISTINCT a.CourseMnemonic) AS CoursesTaught\n",
    "FROM DS5111_SU24.ZSK4GM.INSTRUCTORS i\n",
    "JOIN DS5111_SU24.ZSK4GM.INSTRUCTORASSIGNMENTS ia ON i.InstructorName = ia.InstructorName\n",
    "JOIN DS5111_SU24.ZSK4GM.ASSIGNMENTS a ON ia.AssignmentID = a.AssignmentID\n",
    "GROUP BY a.Term, i.InstructorName\n",
    "ORDER BY a.Term, i.InstructorName;\n",
    "\n",
    "-- 10a. Which courses had more than one instructor for the same term? Provide the mnemonic and term for each. Note this occurs in courses with multiple sections.\n",
    "SELECT a.CourseMnemonic, a.Term\n",
    "FROM DS5111_SU24.ZSK4GM.ASSIGNMENTS a\n",
    "JOIN DS5111_SU24.ZSK4GM.INSTRUCTORASSIGNMENTS ia ON a.AssignmentID = ia.AssignmentID\n",
    "GROUP BY a.CourseMnemonic, a.Term\n",
    "HAVING COUNT(DISTINCT ia.InstructorName) > 1;\n",
    "\n",
    "-- 10b. For courses with multiple sections, provide the term, course mnemonic, and instructor name for each. Hint: You can use your result from 10a in a subquery or WITH clause.\n",
    "WITH MultiInstructorCourses AS (\n",
    "    SELECT a.CourseMnemonic, a.Term\n",
    "    FROM DS5111_SU24.ZSK4GM.ASSIGNMENTS a\n",
    "    JOIN DS5111_SU24.ZSK4GM.INSTRUCTORASSIGNMENTS ia ON a.AssignmentID = ia.AssignmentID\n",
    "    GROUP BY a.CourseMnemonic, a.Term\n",
    "    HAVING COUNT(DISTINCT ia.InstructorName) > 1\n",
    ")\n",
    "SELECT a.Term, a.CourseMnemonic, i.InstructorName\n",
    "FROM DS5111_SU24.ZSK4GM.INSTRUCTORS i\n",
    "JOIN DS5111_SU24.ZSK4GM.INSTRUCTORASSIGNMENTS ia ON i.InstructorName = ia.InstructorName\n",
    "JOIN DS5111_SU24.ZSK4GM.ASSIGNMENTS a ON ia.AssignmentID = a.AssignmentID\n",
    "JOIN MultiInstructorCourses mic ON a.CourseMnemonic = mic.CourseMnemonic AND a.Term = mic.Term\n",
    "ORDER BY a.Term, a.CourseMnemonic, i.InstructorName;"
   ]
  }
 ],
 "metadata": {
  "kernelspec": {
   "display_name": "Python 3 (ipykernel)",
   "language": "python",
   "name": "python3"
  },
  "language_info": {
   "codemirror_mode": {
    "name": "ipython",
    "version": 3
   },
   "file_extension": ".py",
   "mimetype": "text/x-python",
   "name": "python",
   "nbconvert_exporter": "python",
   "pygments_lexer": "ipython3",
   "version": "3.10.9"
  }
 },
 "nbformat": 4,
 "nbformat_minor": 5
}
